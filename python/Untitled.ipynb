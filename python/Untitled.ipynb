{
 "cells": [
  {
   "cell_type": "code",
   "execution_count": 5,
   "id": "d54cc6b3-1781-4095-aa15-909a1451555a",
   "metadata": {},
   "outputs": [],
   "source": [
    "# from greatfet import GreatFET\n",
    "# gf = GreatFET()\n",
    "import binascii"
   ]
  },
  {
   "cell_type": "code",
   "execution_count": 1,
   "id": "f28ccf52-afe0-4012-9c45-c23f8abcfccc",
   "metadata": {},
   "outputs": [],
   "source": [
    "from swig._PacketDAO import new_charArray, cdata_char\n",
    "from swig._PacketDAO import generate_speak, get_packet_buffer"
   ]
  },
  {
   "cell_type": "code",
   "execution_count": 2,
   "id": "e02f57c8-05a6-4dea-abb7-cf7ae9a49e5a",
   "metadata": {},
   "outputs": [],
   "source": [
    "p = new_charArray(32) \n",
    "num_packets = generate_speak(\"hello\",5)"
   ]
  },
  {
   "cell_type": "code",
   "execution_count": 14,
   "id": "8eca4fa9-a069-4fcf-b50a-391501b3e7fe",
   "metadata": {},
   "outputs": [
    {
     "ename": "UnicodeEncodeError",
     "evalue": "'utf-8' codec can't encode character '\\udcff' in position 8: surrogates not allowed",
     "output_type": "error",
     "traceback": [
      "\u001b[0;31m---------------------------------------------------------------------------\u001b[0m",
      "\u001b[0;31mUnicodeEncodeError\u001b[0m                        Traceback (most recent call last)",
      "Cell \u001b[0;32mIn[14], line 3\u001b[0m\n\u001b[1;32m      1\u001b[0m get_packet_buffer(\u001b[38;5;241m1\u001b[39m,p)\n\u001b[1;32m      2\u001b[0m byte_data \u001b[38;5;241m=\u001b[39m cdata_char(p,\u001b[38;5;241m31\u001b[39m)\n\u001b[0;32m----> 3\u001b[0m \u001b[38;5;28mprint\u001b[39m(\u001b[38;5;124m\"\u001b[39m\u001b[38;5;124m:\u001b[39m\u001b[38;5;124m\"\u001b[39m\u001b[38;5;241m.\u001b[39mjoin(\u001b[38;5;124m\"\u001b[39m\u001b[38;5;132;01m{:02x}\u001b[39;00m\u001b[38;5;124m\"\u001b[39m\u001b[38;5;241m.\u001b[39mformat(c) \u001b[38;5;28;01mfor\u001b[39;00m c \u001b[38;5;129;01min\u001b[39;00m byte_data\u001b[38;5;241m.\u001b[39mencode()) )\n",
      "\u001b[0;31mUnicodeEncodeError\u001b[0m: 'utf-8' codec can't encode character '\\udcff' in position 8: surrogates not allowed"
     ]
    }
   ],
   "source": [
    "get_packet_buffer(1,p)\n",
    "byte_data = cdata_char(p,31)\n",
    "print(\":\".join(\"{:02x}\".format(c) for c in byte_data.encode()) )"
   ]
  },
  {
   "cell_type": "code",
   "execution_count": 3,
   "id": "f8e704eb-c6da-4aa2-b781-ac960da0d37d",
   "metadata": {},
   "outputs": [
    {
     "data": {
      "text/plain": [
       "1"
      ]
     },
     "execution_count": 3,
     "metadata": {},
     "output_type": "execute_result"
    }
   ],
   "source": [
    "num_packets"
   ]
  },
  {
   "cell_type": "code",
   "execution_count": null,
   "id": "66706a05-9efd-4184-bf40-612833440a2a",
   "metadata": {},
   "outputs": [],
   "source": []
  }
 ],
 "metadata": {
  "kernelspec": {
   "display_name": "Python 3 (ipykernel)",
   "language": "python",
   "name": "python3"
  },
  "language_info": {
   "codemirror_mode": {
    "name": "ipython",
    "version": 3
   },
   "file_extension": ".py",
   "mimetype": "text/x-python",
   "name": "python",
   "nbconvert_exporter": "python",
   "pygments_lexer": "ipython3",
   "version": "3.11.0"
  }
 },
 "nbformat": 4,
 "nbformat_minor": 5
}
