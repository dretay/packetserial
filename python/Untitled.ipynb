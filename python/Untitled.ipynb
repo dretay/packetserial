{
 "cells": [
  {
   "cell_type": "code",
   "execution_count": 1,
   "id": "d54cc6b3-1781-4095-aa15-909a1451555a",
   "metadata": {},
   "outputs": [],
   "source": [
    "from greatfet import GreatFET\n",
    "gf = GreatFET()"
   ]
  },
  {
   "cell_type": "code",
   "execution_count": 2,
   "id": "f28ccf52-afe0-4012-9c45-c23f8abcfccc",
   "metadata": {},
   "outputs": [],
   "source": [
    "from swig._PacketDAO import add"
   ]
  },
  {
   "cell_type": "code",
   "execution_count": 3,
   "id": "e02f57c8-05a6-4dea-abb7-cf7ae9a49e5a",
   "metadata": {},
   "outputs": [
    {
     "data": {
      "text/plain": [
       "3"
      ]
     },
     "execution_count": 3,
     "metadata": {},
     "output_type": "execute_result"
    }
   ],
   "source": [
    "add(1,2)"
   ]
  },
  {
   "cell_type": "code",
   "execution_count": null,
   "id": "8eca4fa9-a069-4fcf-b50a-391501b3e7fe",
   "metadata": {},
   "outputs": [],
   "source": []
  }
 ],
 "metadata": {
  "kernelspec": {
   "display_name": "Python 3 (ipykernel)",
   "language": "python",
   "name": "python3"
  },
  "language_info": {
   "codemirror_mode": {
    "name": "ipython",
    "version": 3
   },
   "file_extension": ".py",
   "mimetype": "text/x-python",
   "name": "python",
   "nbconvert_exporter": "python",
   "pygments_lexer": "ipython3",
   "version": "3.11.11"
  }
 },
 "nbformat": 4,
 "nbformat_minor": 5
}
