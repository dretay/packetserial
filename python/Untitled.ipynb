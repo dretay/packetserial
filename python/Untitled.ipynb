{
 "cells": [
  {
   "cell_type": "code",
   "execution_count": 3,
   "id": "d54cc6b3-1781-4095-aa15-909a1451555a",
   "metadata": {},
   "outputs": [],
   "source": [
    "from greatfet import GreatFET\n",
    "gf = GreatFET()"
   ]
  },
  {
   "cell_type": "code",
   "execution_count": 4,
   "id": "f28ccf52-afe0-4012-9c45-c23f8abcfccc",
   "metadata": {},
   "outputs": [],
   "source": [
    "from swig._PacketDAO import new_intArray, cdata\n",
    "from swig._PacketDAO import generate_speak, get_packet_buffer"
   ]
  },
  {
   "cell_type": "code",
   "execution_count": 8,
   "id": "e02f57c8-05a6-4dea-abb7-cf7ae9a49e5a",
   "metadata": {},
   "outputs": [],
   "source": [
    "p = new_intArray(32) \n",
    "num_packets = generate_speak(\"hello\",5)\n",
    "raw_byte_data = cdata(get_packet_buffer(0),32)\n",
    "bytes = []\n",
    "for byte in raw_byte_data:\n",
    "    if ord(byte) > 254:\n",
    "        bytes.append(255)\n",
    "    else:\n",
    "        bytes.append(ord(byte))"
   ]
  },
  {
   "cell_type": "code",
   "execution_count": 9,
   "id": "66706a05-9efd-4184-bf40-612833440a2a",
   "metadata": {},
   "outputs": [
    {
     "data": {
      "text/plain": [
       "b'\\xff\\xff\\xff\\xff\\xff\\xff\\xff\\xff\\xff\\xff\\xff\\xff\\xff\\xff\\xff\\xff\\xff\\xff\\xff\\xff\\xff\\xff\\xff\\xff\\xff\\xff\\xff\\xff\\xff\\xff\\xff\\xff'"
      ]
     },
     "execution_count": 9,
     "metadata": {},
     "output_type": "execute_result"
    }
   ],
   "source": [
    "gf.spi.transmit(bytes)"
   ]
  },
  {
   "cell_type": "code",
   "execution_count": null,
   "id": "2eb21c6c-2899-45fc-833d-539c435ca595",
   "metadata": {},
   "outputs": [],
   "source": []
  },
  {
   "cell_type": "code",
   "execution_count": null,
   "id": "f0f53aeb-7620-44bf-a3da-7e6b3ac9e6bd",
   "metadata": {},
   "outputs": [],
   "source": []
  }
 ],
 "metadata": {
  "kernelspec": {
   "display_name": "Python 3 (ipykernel)",
   "language": "python",
   "name": "python3"
  },
  "language_info": {
   "codemirror_mode": {
    "name": "ipython",
    "version": 3
   },
   "file_extension": ".py",
   "mimetype": "text/x-python",
   "name": "python",
   "nbconvert_exporter": "python",
   "pygments_lexer": "ipython3",
   "version": "3.11.0"
  }
 },
 "nbformat": 4,
 "nbformat_minor": 5
}
