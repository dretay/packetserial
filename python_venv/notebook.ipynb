{
 "cells": [
  {
   "cell_type": "code",
   "execution_count": 1,
   "metadata": {},
   "outputs": [],
   "source": [
    "import ctypes\n",
    "import serial\n",
    "import os"
   ]
  },
  {
   "cell_type": "code",
   "execution_count": 2,
   "metadata": {},
   "outputs": [],
   "source": [
    "# https://stackoverflow.com/questions/359498/how-can-i-unload-a-dll-using-ctypes-in-python\n",
    "def isLoaded(lib):\n",
    "   libp = os.path.abspath(lib)\n",
    "   ret = os.system(\"lsof -p %d | grep %s > /dev/null\" % (os.getpid(), libp))\n",
    "   return (ret == 0)\n",
    "\n",
    "def dlclose(handle):\n",
    "   libdl = ctypes.CDLL(\"libdl.so\")\n",
    "   libdl.dlclose(handle)"
   ]
  },
  {
   "cell_type": "code",
   "execution_count": 3,
   "metadata": {},
   "outputs": [],
   "source": [
    "# ser = serial.Serial('/dev/ttyUSB0',baudrate=115200)"
   ]
  },
  {
   "cell_type": "code",
   "execution_count": 4,
   "metadata": {},
   "outputs": [],
   "source": [
    "# ser.write(b\"Hello, World!\")"
   ]
  },
  {
   "cell_type": "code",
   "execution_count": 5,
   "metadata": {},
   "outputs": [],
   "source": [
    "raw_input_report = \"05010902A1010901A1\"\n",
    "input_report=bytearray.fromhex(raw_input_report)\n",
    "#char_array.from_buffer(input_report) #pass this as a char*"
   ]
  },
  {
   "cell_type": "code",
   "execution_count": 6,
   "metadata": {},
   "outputs": [],
   "source": [
    "mydll = ctypes.cdll.LoadLibrary('../release/swig_wrapper.so')"
   ]
  },
  {
   "cell_type": "code",
   "execution_count": 9,
   "metadata": {},
   "outputs": [],
   "source": [
    "mystring = mydll.get_a_string()"
   ]
  },
  {
   "cell_type": "code",
   "execution_count": 10,
   "metadata": {},
   "outputs": [
    {
     "name": "stdout",
     "output_type": "stream",
     "text": [
      "1394341832\n"
     ]
    }
   ],
   "source": [
    "print(mystring)"
   ]
  },
  {
   "cell_type": "code",
   "execution_count": 5,
   "metadata": {},
   "outputs": [],
   "source": [
    "#invoke method\n",
    "mydll = ctypes.cdll.LoadLibrary('../release/swig_wrapper.so')\n",
    "mydll.\n",
    "# print(hex(mydll.marshal_inputreport(char_array.from_buffer(input_report))))\n",
    "# print(hid_descriptor[:2])\n",
    "#unload so so it can be reloaded\n",
    "libHandle = mydll._handle\n",
    "del mydll\n",
    "while isLoaded('release/swig_wrapper.so'):\n",
    "    dlclose(libHandle)"
   ]
  },
  {
   "cell_type": "code",
   "execution_count": null,
   "metadata": {},
   "outputs": [],
   "source": []
  }
 ],
 "metadata": {
  "kernelspec": {
   "display_name": "packetserial",
   "language": "python",
   "name": "packetserial"
  },
  "language_info": {
   "codemirror_mode": {
    "name": "ipython",
    "version": 3
   },
   "file_extension": ".py",
   "mimetype": "text/x-python",
   "name": "python",
   "nbconvert_exporter": "python",
   "pygments_lexer": "ipython3",
   "version": "3.7.3"
  }
 },
 "nbformat": 4,
 "nbformat_minor": 2
}
