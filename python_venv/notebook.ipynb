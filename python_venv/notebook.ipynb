{
 "cells": [
  {
   "cell_type": "code",
   "execution_count": 1,
   "metadata": {},
   "outputs": [],
   "source": [
    "import ctypes\n",
    "import serial\n",
    "import os"
   ]
  },
  {
   "cell_type": "code",
   "execution_count": 2,
   "metadata": {},
   "outputs": [],
   "source": [
    "# https://stackoverflow.com/questions/359498/how-can-i-unload-a-dll-using-ctypes-in-python\n",
    "def isLoaded(lib):\n",
    "   libp = os.path.abspath(lib)\n",
    "   ret = os.system(\"lsof -p %d | grep %s > /dev/null\" % (os.getpid(), libp))\n",
    "   return (ret == 0)\n",
    "\n",
    "def dlclose(handle):\n",
    "   libdl = ctypes.CDLL(\"libdl.so\")\n",
    "   libdl.dlclose(handle)"
   ]
  },
  {
   "cell_type": "code",
   "execution_count": 3,
   "metadata": {},
   "outputs": [],
   "source": [
    "ser = serial.Serial('/dev/ttyUSB0',baudrate=115200)"
   ]
  },
  {
   "cell_type": "code",
   "execution_count": 4,
   "metadata": {},
   "outputs": [],
   "source": [
    "small_packet = \"0F120A0A0912070A0568656C6C6F10051863200300\"\n",
    "bsmall_packet=bytearray.fromhex(small_packet)\n",
    "#char_array.from_buffer(input_report) #pass this as a char*"
   ]
  },
  {
   "cell_type": "code",
   "execution_count": 29,
   "metadata": {},
   "outputs": [
    {
     "data": {
      "text/plain": [
       "21"
      ]
     },
     "execution_count": 29,
     "metadata": {},
     "output_type": "execute_result"
    }
   ],
   "source": [
    "ser.write(bsmall_packet)"
   ]
  },
  {
   "cell_type": "code",
   "execution_count": 9,
   "metadata": {},
   "outputs": [
    {
     "ename": "NameError",
     "evalue": "name 'mydll' is not defined",
     "output_type": "error",
     "traceback": [
      "\u001b[0;31m---------------------------------------------------------------------------\u001b[0m",
      "\u001b[0;31mNameError\u001b[0m                                 Traceback (most recent call last)",
      "\u001b[0;32m<ipython-input-9-090cfb84d3ef>\u001b[0m in \u001b[0;36m<module>\u001b[0;34m\u001b[0m\n\u001b[0;32m----> 1\u001b[0;31m \u001b[0mmystring\u001b[0m \u001b[0;34m=\u001b[0m \u001b[0mmydll\u001b[0m\u001b[0;34m.\u001b[0m\u001b[0mget_a_string\u001b[0m\u001b[0;34m(\u001b[0m\u001b[0;34m)\u001b[0m\u001b[0;34m\u001b[0m\u001b[0;34m\u001b[0m\u001b[0m\n\u001b[0m",
      "\u001b[0;31mNameError\u001b[0m: name 'mydll' is not defined"
     ]
    }
   ],
   "source": [
    "mystring = mydll.get_a_string()"
   ]
  },
  {
   "cell_type": "code",
   "execution_count": 8,
   "metadata": {},
   "outputs": [
    {
     "name": "stdout",
     "output_type": "stream",
     "text": [
      "-1100971616\n"
     ]
    }
   ],
   "source": [
    "print(mystring)"
   ]
  },
  {
   "cell_type": "code",
   "execution_count": 5,
   "metadata": {},
   "outputs": [],
   "source": [
    "#invoke method\n",
    "mydll = ctypes.cdll.LoadLibrary('../release/swig_wrapper.so')\n",
    "mydll.\n",
    "# print(hex(mydll.marshal_inputreport(char_array.from_buffer(input_report))))\n",
    "# print(hid_descriptor[:2])\n",
    "#unload so so it can be reloaded\n",
    "libHandle = mydll._handle\n",
    "del mydll\n",
    "while isLoaded('release/swig_wrapper.so'):\n",
    "    dlclose(libHandle)"
   ]
  },
  {
   "cell_type": "code",
   "execution_count": null,
   "metadata": {},
   "outputs": [],
   "source": []
  }
 ],
 "metadata": {
  "kernelspec": {
   "display_name": "packetserial",
   "language": "python",
   "name": "packetserial"
  },
  "language_info": {
   "codemirror_mode": {
    "name": "ipython",
    "version": 3
   },
   "file_extension": ".py",
   "mimetype": "text/x-python",
   "name": "python",
   "nbconvert_exporter": "python",
   "pygments_lexer": "ipython3",
   "version": "3.7.3"
  }
 },
 "nbformat": 4,
 "nbformat_minor": 2
}
